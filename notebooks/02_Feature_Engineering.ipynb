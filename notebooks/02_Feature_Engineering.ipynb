{
 "cells": [
  {
   "cell_type": "markdown",
   "id": "85c09ae2",
   "metadata": {},
   "source": [
    "## Feature Engineering"
   ]
  },
  {
   "cell_type": "code",
   "execution_count": 325,
   "id": "9bf9b848",
   "metadata": {},
   "outputs": [],
   "source": [
    "import numpy as np\n",
    "import pandas as pd\n",
    "import matplotlib.pyplot as plt\n",
    "import seaborn as sns\n",
    "%matplotlib inline\n",
    "pd.set_option('display.max_columns'  , None)\n",
    "sns.set_theme()"
   ]
  },
  {
   "cell_type": "code",
   "execution_count": 326,
   "id": "9602fd0b",
   "metadata": {},
   "outputs": [],
   "source": [
    "df = pd.read_csv('../data/raw/train.csv')"
   ]
  },
  {
   "cell_type": "code",
   "execution_count": 327,
   "id": "2d79a2d7",
   "metadata": {},
   "outputs": [
    {
     "data": {
      "text/html": [
       "<div>\n",
       "<style scoped>\n",
       "    .dataframe tbody tr th:only-of-type {\n",
       "        vertical-align: middle;\n",
       "    }\n",
       "\n",
       "    .dataframe tbody tr th {\n",
       "        vertical-align: top;\n",
       "    }\n",
       "\n",
       "    .dataframe thead th {\n",
       "        text-align: right;\n",
       "    }\n",
       "</style>\n",
       "<table border=\"1\" class=\"dataframe\">\n",
       "  <thead>\n",
       "    <tr style=\"text-align: right;\">\n",
       "      <th></th>\n",
       "      <th>PassengerId</th>\n",
       "      <th>Survived</th>\n",
       "      <th>Pclass</th>\n",
       "      <th>Name</th>\n",
       "      <th>Sex</th>\n",
       "      <th>Age</th>\n",
       "      <th>SibSp</th>\n",
       "      <th>Parch</th>\n",
       "      <th>Ticket</th>\n",
       "      <th>Fare</th>\n",
       "      <th>Cabin</th>\n",
       "      <th>Embarked</th>\n",
       "    </tr>\n",
       "  </thead>\n",
       "  <tbody>\n",
       "    <tr>\n",
       "      <th>0</th>\n",
       "      <td>1</td>\n",
       "      <td>0</td>\n",
       "      <td>3</td>\n",
       "      <td>Braund, Mr. Owen Harris</td>\n",
       "      <td>male</td>\n",
       "      <td>22.0</td>\n",
       "      <td>1</td>\n",
       "      <td>0</td>\n",
       "      <td>A/5 21171</td>\n",
       "      <td>7.2500</td>\n",
       "      <td>NaN</td>\n",
       "      <td>S</td>\n",
       "    </tr>\n",
       "    <tr>\n",
       "      <th>1</th>\n",
       "      <td>2</td>\n",
       "      <td>1</td>\n",
       "      <td>1</td>\n",
       "      <td>Cumings, Mrs. John Bradley (Florence Briggs Th...</td>\n",
       "      <td>female</td>\n",
       "      <td>38.0</td>\n",
       "      <td>1</td>\n",
       "      <td>0</td>\n",
       "      <td>PC 17599</td>\n",
       "      <td>71.2833</td>\n",
       "      <td>C85</td>\n",
       "      <td>C</td>\n",
       "    </tr>\n",
       "    <tr>\n",
       "      <th>2</th>\n",
       "      <td>3</td>\n",
       "      <td>1</td>\n",
       "      <td>3</td>\n",
       "      <td>Heikkinen, Miss. Laina</td>\n",
       "      <td>female</td>\n",
       "      <td>26.0</td>\n",
       "      <td>0</td>\n",
       "      <td>0</td>\n",
       "      <td>STON/O2. 3101282</td>\n",
       "      <td>7.9250</td>\n",
       "      <td>NaN</td>\n",
       "      <td>S</td>\n",
       "    </tr>\n",
       "    <tr>\n",
       "      <th>3</th>\n",
       "      <td>4</td>\n",
       "      <td>1</td>\n",
       "      <td>1</td>\n",
       "      <td>Futrelle, Mrs. Jacques Heath (Lily May Peel)</td>\n",
       "      <td>female</td>\n",
       "      <td>35.0</td>\n",
       "      <td>1</td>\n",
       "      <td>0</td>\n",
       "      <td>113803</td>\n",
       "      <td>53.1000</td>\n",
       "      <td>C123</td>\n",
       "      <td>S</td>\n",
       "    </tr>\n",
       "    <tr>\n",
       "      <th>4</th>\n",
       "      <td>5</td>\n",
       "      <td>0</td>\n",
       "      <td>3</td>\n",
       "      <td>Allen, Mr. William Henry</td>\n",
       "      <td>male</td>\n",
       "      <td>35.0</td>\n",
       "      <td>0</td>\n",
       "      <td>0</td>\n",
       "      <td>373450</td>\n",
       "      <td>8.0500</td>\n",
       "      <td>NaN</td>\n",
       "      <td>S</td>\n",
       "    </tr>\n",
       "  </tbody>\n",
       "</table>\n",
       "</div>"
      ],
      "text/plain": [
       "   PassengerId  Survived  Pclass  \\\n",
       "0            1         0       3   \n",
       "1            2         1       1   \n",
       "2            3         1       3   \n",
       "3            4         1       1   \n",
       "4            5         0       3   \n",
       "\n",
       "                                                Name     Sex   Age  SibSp  \\\n",
       "0                            Braund, Mr. Owen Harris    male  22.0      1   \n",
       "1  Cumings, Mrs. John Bradley (Florence Briggs Th...  female  38.0      1   \n",
       "2                             Heikkinen, Miss. Laina  female  26.0      0   \n",
       "3       Futrelle, Mrs. Jacques Heath (Lily May Peel)  female  35.0      1   \n",
       "4                           Allen, Mr. William Henry    male  35.0      0   \n",
       "\n",
       "   Parch            Ticket     Fare Cabin Embarked  \n",
       "0      0         A/5 21171   7.2500   NaN        S  \n",
       "1      0          PC 17599  71.2833   C85        C  \n",
       "2      0  STON/O2. 3101282   7.9250   NaN        S  \n",
       "3      0            113803  53.1000  C123        S  \n",
       "4      0            373450   8.0500   NaN        S  "
      ]
     },
     "execution_count": 327,
     "metadata": {},
     "output_type": "execute_result"
    }
   ],
   "source": [
    "df.head()"
   ]
  },
  {
   "cell_type": "code",
   "execution_count": 328,
   "id": "c148d7d3",
   "metadata": {},
   "outputs": [],
   "source": [
    "df = df.drop(columns=['PassengerId'] , axis = 1)"
   ]
  },
  {
   "cell_type": "markdown",
   "id": "cdf2621f",
   "metadata": {},
   "source": [
    "### 1. Extract the Mr. Mrs. from the Name"
   ]
  },
  {
   "cell_type": "code",
   "execution_count": 329,
   "id": "234f4487",
   "metadata": {},
   "outputs": [
    {
     "data": {
      "text/plain": [
       "0                                Braund, Mr. Owen Harris\n",
       "1      Cumings, Mrs. John Bradley (Florence Briggs Th...\n",
       "2                                 Heikkinen, Miss. Laina\n",
       "3           Futrelle, Mrs. Jacques Heath (Lily May Peel)\n",
       "4                               Allen, Mr. William Henry\n",
       "                             ...                        \n",
       "886                                Montvila, Rev. Juozas\n",
       "887                         Graham, Miss. Margaret Edith\n",
       "888             Johnston, Miss. Catherine Helen \"Carrie\"\n",
       "889                                Behr, Mr. Karl Howell\n",
       "890                                  Dooley, Mr. Patrick\n",
       "Name: Name, Length: 891, dtype: object"
      ]
     },
     "execution_count": 329,
     "metadata": {},
     "output_type": "execute_result"
    }
   ],
   "source": [
    "df['Name']"
   ]
  },
  {
   "cell_type": "code",
   "execution_count": 330,
   "id": "65b229ab",
   "metadata": {},
   "outputs": [],
   "source": [
    "def extractTitles(x : str) -> str:\n",
    "    \n",
    "    # first split the name on ','\n",
    "    # then select the second ele from list \n",
    "    # then again split on '.' and select the first element\n",
    "    return x.split(',')[1].split('.')[0].replace(' ' , '').casefold()"
   ]
  },
  {
   "cell_type": "code",
   "execution_count": 331,
   "id": "1c628b84",
   "metadata": {},
   "outputs": [],
   "source": [
    "df['Title'] = df['Name'].apply(extractTitles)"
   ]
  },
  {
   "cell_type": "code",
   "execution_count": 332,
   "id": "8c6b9779",
   "metadata": {},
   "outputs": [
    {
     "data": {
      "text/plain": [
       "array(['mr', 'mrs', 'miss', 'master', 'don', 'rev', 'dr', 'mme', 'ms',\n",
       "       'major', 'lady', 'sir', 'mlle', 'col', 'capt', 'thecountess',\n",
       "       'jonkheer'], dtype=object)"
      ]
     },
     "execution_count": 332,
     "metadata": {},
     "output_type": "execute_result"
    }
   ],
   "source": [
    "df['Title'].unique()"
   ]
  },
  {
   "cell_type": "code",
   "execution_count": 333,
   "id": "8c902297",
   "metadata": {},
   "outputs": [],
   "source": [
    "# merge the synonms\n",
    "df['Title'] = df['Title'].replace(['mlle', 'ms'], 'miss')\n",
    "df['Title'] = df['Title'].replace('mme', 'mrs')"
   ]
  },
  {
   "cell_type": "code",
   "execution_count": 334,
   "id": "3e91a0e9",
   "metadata": {},
   "outputs": [],
   "source": [
    "# Create a other category\n",
    "rare_titles = ['don', 'rev', 'dr', 'major', 'lady', 'sir', 'col', 'capt', 'thecountess', 'jonkheer']\n",
    "df['Title'] = df['Title'].replace(rare_titles, 'Rare')"
   ]
  },
  {
   "cell_type": "markdown",
   "id": "5a790e56",
   "metadata": {},
   "source": [
    "check how these titles make difference on survival rates"
   ]
  },
  {
   "cell_type": "code",
   "execution_count": 335,
   "id": "eecf0623",
   "metadata": {},
   "outputs": [
    {
     "data": {
      "text/plain": [
       "<Axes: xlabel='Title', ylabel='count'>"
      ]
     },
     "execution_count": 335,
     "metadata": {},
     "output_type": "execute_result"
    },
    {
     "data": {
      "image/png": "[encoded data removed]",
      "text/plain": [
       "<Figure size 640x480 with 1 Axes>"
      ]
     },
     "metadata": {},
     "output_type": "display_data"
    }
   ],
   "source": [
    "sns.countplot(data = df , x ='Title' , hue = 'Survived')"
   ]
  },
  {
   "cell_type": "code",
   "execution_count": 336,
   "id": "cfef5f48",
   "metadata": {},
   "outputs": [],
   "source": [
    "# we dont need name anymore hence can be dropped\n",
    "df.drop(columns=['Name'] , axis = 1 , inplace=True)"
   ]
  },
  {
   "cell_type": "code",
   "execution_count": 337,
   "id": "a185de82",
   "metadata": {},
   "outputs": [
    {
     "data": {
      "text/html": [
       "<div>\n",
       "<style scoped>\n",
       "    .dataframe tbody tr th:only-of-type {\n",
       "        vertical-align: middle;\n",
       "    }\n",
       "\n",
       "    .dataframe tbody tr th {\n",
       "        vertical-align: top;\n",
       "    }\n",
       "\n",
       "    .dataframe thead th {\n",
       "        text-align: right;\n",
       "    }\n",
       "</style>\n",
       "<table border=\"1\" class=\"dataframe\">\n",
       "  <thead>\n",
       "    <tr style=\"text-align: right;\">\n",
       "      <th></th>\n",
       "      <th>Survived</th>\n",
       "      <th>Pclass</th>\n",
       "      <th>Sex</th>\n",
       "      <th>Age</th>\n",
       "      <th>SibSp</th>\n",
       "      <th>Parch</th>\n",
       "      <th>Ticket</th>\n",
       "      <th>Fare</th>\n",
       "      <th>Cabin</th>\n",
       "      <th>Embarked</th>\n",
       "      <th>Title</th>\n",
       "    </tr>\n",
       "  </thead>\n",
       "  <tbody>\n",
       "    <tr>\n",
       "      <th>0</th>\n",
       "      <td>0</td>\n",
       "      <td>3</td>\n",
       "      <td>male</td>\n",
       "      <td>22.0</td>\n",
       "      <td>1</td>\n",
       "      <td>0</td>\n",
       "      <td>A/5 21171</td>\n",
       "      <td>7.2500</td>\n",
       "      <td>NaN</td>\n",
       "      <td>S</td>\n",
       "      <td>mr</td>\n",
       "    </tr>\n",
       "    <tr>\n",
       "      <th>1</th>\n",
       "      <td>1</td>\n",
       "      <td>1</td>\n",
       "      <td>female</td>\n",
       "      <td>38.0</td>\n",
       "      <td>1</td>\n",
       "      <td>0</td>\n",
       "      <td>PC 17599</td>\n",
       "      <td>71.2833</td>\n",
       "      <td>C85</td>\n",
       "      <td>C</td>\n",
       "      <td>mrs</td>\n",
       "    </tr>\n",
       "    <tr>\n",
       "      <th>2</th>\n",
       "      <td>1</td>\n",
       "      <td>3</td>\n",
       "      <td>female</td>\n",
       "      <td>26.0</td>\n",
       "      <td>0</td>\n",
       "      <td>0</td>\n",
       "      <td>STON/O2. 3101282</td>\n",
       "      <td>7.9250</td>\n",
       "      <td>NaN</td>\n",
       "      <td>S</td>\n",
       "      <td>miss</td>\n",
       "    </tr>\n",
       "    <tr>\n",
       "      <th>3</th>\n",
       "      <td>1</td>\n",
       "      <td>1</td>\n",
       "      <td>female</td>\n",
       "      <td>35.0</td>\n",
       "      <td>1</td>\n",
       "      <td>0</td>\n",
       "      <td>113803</td>\n",
       "      <td>53.1000</td>\n",
       "      <td>C123</td>\n",
       "      <td>S</td>\n",
       "      <td>mrs</td>\n",
       "    </tr>\n",
       "    <tr>\n",
       "      <th>4</th>\n",
       "      <td>0</td>\n",
       "      <td>3</td>\n",
       "      <td>male</td>\n",
       "      <td>35.0</td>\n",
       "      <td>0</td>\n",
       "      <td>0</td>\n",
       "      <td>373450</td>\n",
       "      <td>8.0500</td>\n",
       "      <td>NaN</td>\n",
       "      <td>S</td>\n",
       "      <td>mr</td>\n",
       "    </tr>\n",
       "  </tbody>\n",
       "</table>\n",
       "</div>"
      ],
      "text/plain": [
       "   Survived  Pclass     Sex   Age  SibSp  Parch            Ticket     Fare  \\\n",
       "0         0       3    male  22.0      1      0         A/5 21171   7.2500   \n",
       "1         1       1  female  38.0      1      0          PC 17599  71.2833   \n",
       "2         1       3  female  26.0      0      0  STON/O2. 3101282   7.9250   \n",
       "3         1       1  female  35.0      1      0            113803  53.1000   \n",
       "4         0       3    male  35.0      0      0            373450   8.0500   \n",
       "\n",
       "  Cabin Embarked Title  \n",
       "0   NaN        S    mr  \n",
       "1   C85        C   mrs  \n",
       "2   NaN        S  miss  \n",
       "3  C123        S   mrs  \n",
       "4   NaN        S    mr  "
      ]
     },
     "execution_count": 337,
     "metadata": {},
     "output_type": "execute_result"
    }
   ],
   "source": [
    "df.head()"
   ]
  },
  {
   "cell_type": "markdown",
   "id": "00de890c",
   "metadata": {},
   "source": [
    "### 2. Create a Family Column"
   ]
  },
  {
   "cell_type": "code",
   "execution_count": 338,
   "id": "f25a02e7",
   "metadata": {},
   "outputs": [],
   "source": [
    "df['FamilySize'] = df['SibSp'] + df['Parch'] + 1"
   ]
  },
  {
   "cell_type": "code",
   "execution_count": 339,
   "id": "716f986d",
   "metadata": {},
   "outputs": [
    {
     "data": {
      "text/plain": [
       "<Axes: xlabel='FamilySize', ylabel='count'>"
      ]
     },
     "execution_count": 339,
     "metadata": {},
     "output_type": "execute_result"
    },
    {
     "data": {
      "image/png": "[encoded data removed]",
      "text/plain": [
       "<Figure size 640x480 with 1 Axes>"
      ]
     },
     "metadata": {},
     "output_type": "display_data"
    }
   ],
   "source": [
    "sns.countplot(data = df , x = 'FamilySize' , hue = 'Survived')"
   ]
  },
  {
   "cell_type": "markdown",
   "id": "5360530b",
   "metadata": {},
   "source": [
    "bin the family into alone , small family and large family"
   ]
  },
  {
   "cell_type": "code",
   "execution_count": 340,
   "id": "b05834d5",
   "metadata": {},
   "outputs": [],
   "source": [
    "def binFamily(x : int) -> str:\n",
    "    if x == 1:\n",
    "        return 'alone'\n",
    "    if x >=2 and x <= 4:\n",
    "        return 'small'\n",
    "    return 'large'"
   ]
  },
  {
   "cell_type": "code",
   "execution_count": 341,
   "id": "e6776719",
   "metadata": {},
   "outputs": [],
   "source": [
    "df['FamilyGroup'] = df['FamilySize'].apply(binFamily)\n",
    "df.drop(columns=['Parch' , 'SibSp'] , axis = 1 , inplace=True)"
   ]
  },
  {
   "cell_type": "code",
   "execution_count": 342,
   "id": "c362787f",
   "metadata": {},
   "outputs": [
    {
     "data": {
      "text/plain": [
       "<Axes: xlabel='FamilyGroup', ylabel='count'>"
      ]
     },
     "execution_count": 342,
     "metadata": {},
     "output_type": "execute_result"
    },
    {
     "data": {
      "image/png": "[encoded data removed]",
      "text/plain": [
       "<Figure size 640x480 with 1 Axes>"
      ]
     },
     "metadata": {},
     "output_type": "display_data"
    }
   ],
   "source": [
    "sns.countplot(data = df , x = 'FamilyGroup' , hue = 'Survived')"
   ]
  },
  {
   "cell_type": "markdown",
   "id": "e1e66b80",
   "metadata": {},
   "source": [
    "### 3. Create Deck Feature"
   ]
  },
  {
   "cell_type": "code",
   "execution_count": 343,
   "id": "27fdef3f",
   "metadata": {},
   "outputs": [],
   "source": [
    "df['Deck'] = df['Cabin'].apply(lambda x : x[0] if type(x) == str else 'U')"
   ]
  },
  {
   "cell_type": "code",
   "execution_count": 344,
   "id": "bd69e12f",
   "metadata": {},
   "outputs": [
    {
     "data": {
      "text/plain": [
       "array(['U', 'C', 'E', 'G', 'D', 'A', 'B', 'F', 'T'], dtype=object)"
      ]
     },
     "execution_count": 344,
     "metadata": {},
     "output_type": "execute_result"
    }
   ],
   "source": [
    "df['Deck'].unique()"
   ]
  },
  {
   "cell_type": "code",
   "execution_count": 345,
   "id": "0ea63f35",
   "metadata": {},
   "outputs": [
    {
     "data": {
      "text/plain": [
       "<Axes: xlabel='Deck', ylabel='count'>"
      ]
     },
     "execution_count": 345,
     "metadata": {},
     "output_type": "execute_result"
    },
    {
     "data": {
      "image/png": "[encoded data removed]",
      "text/plain": [
       "<Figure size 640x480 with 1 Axes>"
      ]
     },
     "metadata": {},
     "output_type": "display_data"
    }
   ],
   "source": [
    "sns.countplot(data = df , x = 'Deck' , hue = 'Survived')"
   ]
  },
  {
   "cell_type": "code",
   "execution_count": 346,
   "id": "793a5bf0",
   "metadata": {},
   "outputs": [],
   "source": [
    "df['HasCabin'] = df['Cabin'].apply(lambda x: 1 if type(x) == str else 0)"
   ]
  },
  {
   "cell_type": "code",
   "execution_count": 347,
   "id": "eea3e143",
   "metadata": {},
   "outputs": [
    {
     "data": {
      "text/plain": [
       "<Axes: xlabel='HasCabin', ylabel='count'>"
      ]
     },
     "execution_count": 347,
     "metadata": {},
     "output_type": "execute_result"
    },
    {
     "data": {
      "image/png": "[encoded data removed]",
      "text/plain": [
       "<Figure size 640x480 with 1 Axes>"
      ]
     },
     "metadata": {},
     "output_type": "display_data"
    }
   ],
   "source": [
    "sns.countplot(data = df , x = 'HasCabin' , hue = 'Survived')"
   ]
  },
  {
   "cell_type": "markdown",
   "id": "f7812ebe",
   "metadata": {},
   "source": [
    "if you have a cabin there is a bit higher chance that a person survived"
   ]
  },
  {
   "cell_type": "markdown",
   "id": "97572d25",
   "metadata": {},
   "source": [
    "### 4. Use Fare to Create Fare Per person "
   ]
  },
  {
   "cell_type": "code",
   "execution_count": null,
   "id": "5c9ae3d6",
   "metadata": {},
   "outputs": [],
   "source": [
    "df['FarePerPerson'] = np.log1p(df['Fare'] / df['FamilySize']) # log transformation"
   ]
  },
  {
   "cell_type": "code",
   "execution_count": null,
   "id": "3eef2124",
   "metadata": {},
   "outputs": [
    {
     "data": {
      "text/plain": [
       "<Axes: xlabel='FarePerPerson', ylabel='Count'>"
      ]
     },
     "execution_count": 356,
     "metadata": {},
     "output_type": "execute_result"
    },
    {
     "data": {
      "image/png": "[encoded data removed]",
      "text/plain": [
       "<Figure size 640x480 with 1 Axes>"
      ]
     },
     "metadata": {},
     "output_type": "display_data"
    }
   ],
   "source": [
    "sns.histplot(data = df , x = 'FarePerPerson' , hue = 'Survived' , bins = 15 , kde = True) "
   ]
  },
  {
   "cell_type": "markdown",
   "id": "303335c5",
   "metadata": {},
   "source": [
    "### 5. Binning Numerical Features"
   ]
  },
  {
   "cell_type": "code",
   "execution_count": 357,
   "id": "6075d8c6",
   "metadata": {},
   "outputs": [],
   "source": [
    "def createAgeGroup(x : int) -> str :\n",
    "\n",
    "    if x >= 0 and x <= 12 :\n",
    "        return 'Child'\n",
    "    elif x >= 13 and x <= 18:\n",
    "        return 'Teen'\n",
    "    elif x >= 18 and x <= 60:\n",
    "        return 'Adult'\n",
    "    return 'Senior'"
   ]
  },
  {
   "cell_type": "code",
   "execution_count": 358,
   "id": "9f5817e1",
   "metadata": {},
   "outputs": [],
   "source": [
    "df['AgeGroup'] = df['Age'].apply(createAgeGroup)"
   ]
  },
  {
   "cell_type": "code",
   "execution_count": 360,
   "id": "86a8ff0e",
   "metadata": {},
   "outputs": [
    {
     "data": {
      "text/plain": [
       "<Axes: xlabel='AgeGroup', ylabel='count'>"
      ]
     },
     "execution_count": 360,
     "metadata": {},
     "output_type": "execute_result"
    },
    {
     "data": {
      "image/png": "[encoded data removed]",
      "text/plain": [
       "<Figure size 640x480 with 1 Axes>"
      ]
     },
     "metadata": {},
     "output_type": "display_data"
    }
   ],
   "source": [
    "sns.countplot(data = df , x = 'AgeGroup' , hue = 'Survived')"
   ]
  },
  {
   "cell_type": "code",
   "execution_count": 361,
   "id": "51d44c25",
   "metadata": {},
   "outputs": [],
   "source": [
    "df['FareGroup'] = pd.qcut(df['Fare'], q=4, labels=['Low', 'Medium', 'High', 'Very High'])"
   ]
  },
  {
   "cell_type": "code",
   "execution_count": 362,
   "id": "fee0330d",
   "metadata": {},
   "outputs": [
    {
     "data": {
      "text/plain": [
       "<Axes: xlabel='FareGroup', ylabel='count'>"
      ]
     },
     "execution_count": 362,
     "metadata": {},
     "output_type": "execute_result"
    },
    {
     "data": {
      "image/png": "[encoded data removed]",
      "text/plain": [
       "<Figure size 640x480 with 1 Axes>"
      ]
     },
     "metadata": {},
     "output_type": "display_data"
    }
   ],
   "source": [
    "sns.countplot(data = df , x = 'FareGroup' , hue = 'Survived')"
   ]
  },
  {
   "cell_type": "code",
   "execution_count": 363,
   "id": "aab42ac2",
   "metadata": {},
   "outputs": [
    {
     "data": {
      "text/html": [
       "<div>\n",
       "<style scoped>\n",
       "    .dataframe tbody tr th:only-of-type {\n",
       "        vertical-align: middle;\n",
       "    }\n",
       "\n",
       "    .dataframe tbody tr th {\n",
       "        vertical-align: top;\n",
       "    }\n",
       "\n",
       "    .dataframe thead th {\n",
       "        text-align: right;\n",
       "    }\n",
       "</style>\n",
       "<table border=\"1\" class=\"dataframe\">\n",
       "  <thead>\n",
       "    <tr style=\"text-align: right;\">\n",
       "      <th></th>\n",
       "      <th>Survived</th>\n",
       "      <th>Pclass</th>\n",
       "      <th>Sex</th>\n",
       "      <th>Age</th>\n",
       "      <th>Ticket</th>\n",
       "      <th>Fare</th>\n",
       "      <th>Cabin</th>\n",
       "      <th>Embarked</th>\n",
       "      <th>Title</th>\n",
       "      <th>FamilySize</th>\n",
       "      <th>FamilyGroup</th>\n",
       "      <th>Deck</th>\n",
       "      <th>HasCabin</th>\n",
       "      <th>FarePerPerson</th>\n",
       "      <th>AgeGroup</th>\n",
       "      <th>FareGroup</th>\n",
       "    </tr>\n",
       "  </thead>\n",
       "  <tbody>\n",
       "    <tr>\n",
       "      <th>0</th>\n",
       "      <td>0</td>\n",
       "      <td>3</td>\n",
       "      <td>male</td>\n",
       "      <td>22.0</td>\n",
       "      <td>A/5 21171</td>\n",
       "      <td>7.2500</td>\n",
       "      <td>NaN</td>\n",
       "      <td>S</td>\n",
       "      <td>mr</td>\n",
       "      <td>2</td>\n",
       "      <td>small</td>\n",
       "      <td>U</td>\n",
       "      <td>0</td>\n",
       "      <td>1.531476</td>\n",
       "      <td>Adult</td>\n",
       "      <td>Low</td>\n",
       "    </tr>\n",
       "    <tr>\n",
       "      <th>1</th>\n",
       "      <td>1</td>\n",
       "      <td>1</td>\n",
       "      <td>female</td>\n",
       "      <td>38.0</td>\n",
       "      <td>PC 17599</td>\n",
       "      <td>71.2833</td>\n",
       "      <td>C85</td>\n",
       "      <td>C</td>\n",
       "      <td>mrs</td>\n",
       "      <td>2</td>\n",
       "      <td>small</td>\n",
       "      <td>C</td>\n",
       "      <td>1</td>\n",
       "      <td>3.601186</td>\n",
       "      <td>Adult</td>\n",
       "      <td>Very High</td>\n",
       "    </tr>\n",
       "    <tr>\n",
       "      <th>2</th>\n",
       "      <td>1</td>\n",
       "      <td>3</td>\n",
       "      <td>female</td>\n",
       "      <td>26.0</td>\n",
       "      <td>STON/O2. 3101282</td>\n",
       "      <td>7.9250</td>\n",
       "      <td>NaN</td>\n",
       "      <td>S</td>\n",
       "      <td>miss</td>\n",
       "      <td>1</td>\n",
       "      <td>alone</td>\n",
       "      <td>U</td>\n",
       "      <td>0</td>\n",
       "      <td>2.188856</td>\n",
       "      <td>Adult</td>\n",
       "      <td>Medium</td>\n",
       "    </tr>\n",
       "    <tr>\n",
       "      <th>3</th>\n",
       "      <td>1</td>\n",
       "      <td>1</td>\n",
       "      <td>female</td>\n",
       "      <td>35.0</td>\n",
       "      <td>113803</td>\n",
       "      <td>53.1000</td>\n",
       "      <td>C123</td>\n",
       "      <td>S</td>\n",
       "      <td>mrs</td>\n",
       "      <td>2</td>\n",
       "      <td>small</td>\n",
       "      <td>C</td>\n",
       "      <td>1</td>\n",
       "      <td>3.316003</td>\n",
       "      <td>Adult</td>\n",
       "      <td>Very High</td>\n",
       "    </tr>\n",
       "    <tr>\n",
       "      <th>4</th>\n",
       "      <td>0</td>\n",
       "      <td>3</td>\n",
       "      <td>male</td>\n",
       "      <td>35.0</td>\n",
       "      <td>373450</td>\n",
       "      <td>8.0500</td>\n",
       "      <td>NaN</td>\n",
       "      <td>S</td>\n",
       "      <td>mr</td>\n",
       "      <td>1</td>\n",
       "      <td>alone</td>\n",
       "      <td>U</td>\n",
       "      <td>0</td>\n",
       "      <td>2.202765</td>\n",
       "      <td>Adult</td>\n",
       "      <td>Medium</td>\n",
       "    </tr>\n",
       "  </tbody>\n",
       "</table>\n",
       "</div>"
      ],
      "text/plain": [
       "   Survived  Pclass     Sex   Age            Ticket     Fare Cabin Embarked  \\\n",
       "0         0       3    male  22.0         A/5 21171   7.2500   NaN        S   \n",
       "1         1       1  female  38.0          PC 17599  71.2833   C85        C   \n",
       "2         1       3  female  26.0  STON/O2. 3101282   7.9250   NaN        S   \n",
       "3         1       1  female  35.0            113803  53.1000  C123        S   \n",
       "4         0       3    male  35.0            373450   8.0500   NaN        S   \n",
       "\n",
       "  Title  FamilySize FamilyGroup Deck  HasCabin  FarePerPerson AgeGroup  \\\n",
       "0    mr           2       small    U         0       1.531476    Adult   \n",
       "1   mrs           2       small    C         1       3.601186    Adult   \n",
       "2  miss           1       alone    U         0       2.188856    Adult   \n",
       "3   mrs           2       small    C         1       3.316003    Adult   \n",
       "4    mr           1       alone    U         0       2.202765    Adult   \n",
       "\n",
       "   FareGroup  \n",
       "0        Low  \n",
       "1  Very High  \n",
       "2     Medium  \n",
       "3  Very High  \n",
       "4     Medium  "
      ]
     },
     "execution_count": 363,
     "metadata": {},
     "output_type": "execute_result"
    }
   ],
   "source": [
    "df.head()"
   ]
  },
  {
   "cell_type": "code",
   "execution_count": 366,
   "id": "102ef038",
   "metadata": {},
   "outputs": [],
   "source": [
    "df.drop(columns=['Ticket' , 'Cabin'] , axis = 1 , inplace=True)"
   ]
  },
  {
   "cell_type": "code",
   "execution_count": 367,
   "id": "467493ff",
   "metadata": {},
   "outputs": [
    {
     "data": {
      "text/html": [
       "<div>\n",
       "<style scoped>\n",
       "    .dataframe tbody tr th:only-of-type {\n",
       "        vertical-align: middle;\n",
       "    }\n",
       "\n",
       "    .dataframe tbody tr th {\n",
       "        vertical-align: top;\n",
       "    }\n",
       "\n",
       "    .dataframe thead th {\n",
       "        text-align: right;\n",
       "    }\n",
       "</style>\n",
       "<table border=\"1\" class=\"dataframe\">\n",
       "  <thead>\n",
       "    <tr style=\"text-align: right;\">\n",
       "      <th></th>\n",
       "      <th>Survived</th>\n",
       "      <th>Pclass</th>\n",
       "      <th>Sex</th>\n",
       "      <th>Age</th>\n",
       "      <th>Fare</th>\n",
       "      <th>Embarked</th>\n",
       "      <th>Title</th>\n",
       "      <th>FamilySize</th>\n",
       "      <th>FamilyGroup</th>\n",
       "      <th>Deck</th>\n",
       "      <th>HasCabin</th>\n",
       "      <th>FarePerPerson</th>\n",
       "      <th>AgeGroup</th>\n",
       "      <th>FareGroup</th>\n",
       "    </tr>\n",
       "  </thead>\n",
       "  <tbody>\n",
       "    <tr>\n",
       "      <th>0</th>\n",
       "      <td>0</td>\n",
       "      <td>3</td>\n",
       "      <td>male</td>\n",
       "      <td>22.0</td>\n",
       "      <td>7.2500</td>\n",
       "      <td>S</td>\n",
       "      <td>mr</td>\n",
       "      <td>2</td>\n",
       "      <td>small</td>\n",
       "      <td>U</td>\n",
       "      <td>0</td>\n",
       "      <td>1.531476</td>\n",
       "      <td>Adult</td>\n",
       "      <td>Low</td>\n",
       "    </tr>\n",
       "    <tr>\n",
       "      <th>1</th>\n",
       "      <td>1</td>\n",
       "      <td>1</td>\n",
       "      <td>female</td>\n",
       "      <td>38.0</td>\n",
       "      <td>71.2833</td>\n",
       "      <td>C</td>\n",
       "      <td>mrs</td>\n",
       "      <td>2</td>\n",
       "      <td>small</td>\n",
       "      <td>C</td>\n",
       "      <td>1</td>\n",
       "      <td>3.601186</td>\n",
       "      <td>Adult</td>\n",
       "      <td>Very High</td>\n",
       "    </tr>\n",
       "    <tr>\n",
       "      <th>2</th>\n",
       "      <td>1</td>\n",
       "      <td>3</td>\n",
       "      <td>female</td>\n",
       "      <td>26.0</td>\n",
       "      <td>7.9250</td>\n",
       "      <td>S</td>\n",
       "      <td>miss</td>\n",
       "      <td>1</td>\n",
       "      <td>alone</td>\n",
       "      <td>U</td>\n",
       "      <td>0</td>\n",
       "      <td>2.188856</td>\n",
       "      <td>Adult</td>\n",
       "      <td>Medium</td>\n",
       "    </tr>\n",
       "    <tr>\n",
       "      <th>3</th>\n",
       "      <td>1</td>\n",
       "      <td>1</td>\n",
       "      <td>female</td>\n",
       "      <td>35.0</td>\n",
       "      <td>53.1000</td>\n",
       "      <td>S</td>\n",
       "      <td>mrs</td>\n",
       "      <td>2</td>\n",
       "      <td>small</td>\n",
       "      <td>C</td>\n",
       "      <td>1</td>\n",
       "      <td>3.316003</td>\n",
       "      <td>Adult</td>\n",
       "      <td>Very High</td>\n",
       "    </tr>\n",
       "    <tr>\n",
       "      <th>4</th>\n",
       "      <td>0</td>\n",
       "      <td>3</td>\n",
       "      <td>male</td>\n",
       "      <td>35.0</td>\n",
       "      <td>8.0500</td>\n",
       "      <td>S</td>\n",
       "      <td>mr</td>\n",
       "      <td>1</td>\n",
       "      <td>alone</td>\n",
       "      <td>U</td>\n",
       "      <td>0</td>\n",
       "      <td>2.202765</td>\n",
       "      <td>Adult</td>\n",
       "      <td>Medium</td>\n",
       "    </tr>\n",
       "  </tbody>\n",
       "</table>\n",
       "</div>"
      ],
      "text/plain": [
       "   Survived  Pclass     Sex   Age     Fare Embarked Title  FamilySize  \\\n",
       "0         0       3    male  22.0   7.2500        S    mr           2   \n",
       "1         1       1  female  38.0  71.2833        C   mrs           2   \n",
       "2         1       3  female  26.0   7.9250        S  miss           1   \n",
       "3         1       1  female  35.0  53.1000        S   mrs           2   \n",
       "4         0       3    male  35.0   8.0500        S    mr           1   \n",
       "\n",
       "  FamilyGroup Deck  HasCabin  FarePerPerson AgeGroup  FareGroup  \n",
       "0       small    U         0       1.531476    Adult        Low  \n",
       "1       small    C         1       3.601186    Adult  Very High  \n",
       "2       alone    U         0       2.188856    Adult     Medium  \n",
       "3       small    C         1       3.316003    Adult  Very High  \n",
       "4       alone    U         0       2.202765    Adult     Medium  "
      ]
     },
     "execution_count": 367,
     "metadata": {},
     "output_type": "execute_result"
    }
   ],
   "source": [
    "df.head()"
   ]
  },
  {
   "cell_type": "code",
   "execution_count": 368,
   "id": "b98e74a2",
   "metadata": {},
   "outputs": [
    {
     "name": "stdout",
     "output_type": "stream",
     "text": [
      "<class 'pandas.core.frame.DataFrame'>\n",
      "RangeIndex: 891 entries, 0 to 890\n",
      "Data columns (total 14 columns):\n",
      " #   Column         Non-Null Count  Dtype   \n",
      "---  ------         --------------  -----   \n",
      " 0   Survived       891 non-null    int64   \n",
      " 1   Pclass         891 non-null    int64   \n",
      " 2   Sex            891 non-null    object  \n",
      " 3   Age            714 non-null    float64 \n",
      " 4   Fare           891 non-null    float64 \n",
      " 5   Embarked       889 non-null    object  \n",
      " 6   Title          891 non-null    object  \n",
      " 7   FamilySize     891 non-null    int64   \n",
      " 8   FamilyGroup    891 non-null    object  \n",
      " 9   Deck           891 non-null    object  \n",
      " 10  HasCabin       891 non-null    int64   \n",
      " 11  FarePerPerson  891 non-null    float64 \n",
      " 12  AgeGroup       891 non-null    object  \n",
      " 13  FareGroup      891 non-null    category\n",
      "dtypes: category(1), float64(3), int64(4), object(6)\n",
      "memory usage: 91.7+ KB\n"
     ]
    }
   ],
   "source": [
    "df.info()"
   ]
  },
  {
   "cell_type": "markdown",
   "id": "471adc5a",
   "metadata": {},
   "source": [
    "Fill the missing values"
   ]
  },
  {
   "cell_type": "code",
   "execution_count": 386,
   "id": "306e682b",
   "metadata": {},
   "outputs": [],
   "source": [
    "df['Age'] = df['Age'].fillna(df.groupby('Title')['Age'].transform('median'))"
   ]
  },
  {
   "cell_type": "code",
   "execution_count": 385,
   "id": "1726b94e",
   "metadata": {},
   "outputs": [
    {
     "data": {
      "text/plain": [
       "0      22.0\n",
       "1      38.0\n",
       "2      26.0\n",
       "3      35.0\n",
       "4      35.0\n",
       "       ... \n",
       "886    27.0\n",
       "887    19.0\n",
       "888    21.0\n",
       "889    26.0\n",
       "890    32.0\n",
       "Name: Age, Length: 891, dtype: float64"
      ]
     },
     "execution_count": 385,
     "metadata": {},
     "output_type": "execute_result"
    }
   ],
   "source": [
    "df['Age']"
   ]
  },
  {
   "cell_type": "code",
   "execution_count": 387,
   "id": "3efd6c6b",
   "metadata": {},
   "outputs": [],
   "source": [
    "df['Embarked'].fillna(df['Embarked'].mode()[0], inplace=True)"
   ]
  },
  {
   "cell_type": "code",
   "execution_count": 389,
   "id": "a0ef2247",
   "metadata": {},
   "outputs": [
    {
     "name": "stdout",
     "output_type": "stream",
     "text": [
      "<class 'pandas.core.frame.DataFrame'>\n",
      "RangeIndex: 891 entries, 0 to 890\n",
      "Data columns (total 14 columns):\n",
      " #   Column         Non-Null Count  Dtype   \n",
      "---  ------         --------------  -----   \n",
      " 0   Survived       891 non-null    int64   \n",
      " 1   Pclass         891 non-null    int64   \n",
      " 2   Sex            891 non-null    object  \n",
      " 3   Age            891 non-null    float64 \n",
      " 4   Fare           891 non-null    float64 \n",
      " 5   Embarked       891 non-null    object  \n",
      " 6   Title          891 non-null    object  \n",
      " 7   FamilySize     891 non-null    int64   \n",
      " 8   FamilyGroup    891 non-null    object  \n",
      " 9   Deck           891 non-null    object  \n",
      " 10  HasCabin       891 non-null    int64   \n",
      " 11  FarePerPerson  891 non-null    float64 \n",
      " 12  AgeGroup       891 non-null    object  \n",
      " 13  FareGroup      891 non-null    category\n",
      "dtypes: category(1), float64(3), int64(4), object(6)\n",
      "memory usage: 91.7+ KB\n"
     ]
    }
   ],
   "source": [
    "df.info()"
   ]
  },
  {
   "cell_type": "markdown",
   "id": "d6f357d8",
   "metadata": {},
   "source": [
    "## Next Step would be converting all this into machine learning pipelines so its easy to work and make it modular"
   ]
  }
 ],
 "metadata": {
  "kernelspec": {
   "display_name": ".venv",
   "language": "python",
   "name": "python3"
  },
  "language_info": {
   "codemirror_mode": {
    "name": "ipython",
    "version": 3
   },
   "file_extension": ".py",
   "mimetype": "text/x-python",
   "name": "python",
   "nbconvert_exporter": "python",
   "pygments_lexer": "ipython3",
   "version": "3.12.3"
  }
 },
 "nbformat": 4,
 "nbformat_minor": 5
}
